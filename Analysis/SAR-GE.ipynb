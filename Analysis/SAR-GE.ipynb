{
 "cells": [
  {
   "cell_type": "markdown",
   "id": "8c1f94e2-96cc-4ac3-aeb0-10a60d4f9778",
   "metadata": {},
   "source": [
    "# SAR-GE"
   ]
  },
  {
   "cell_type": "code",
   "execution_count": null,
   "id": "d3d59e74-c558-423e-aad5-d7b5f3270ac2",
   "metadata": {},
   "outputs": [],
   "source": []
  }
 ],
 "metadata": {
  "kernelspec": {
   "display_name": "Julia 1.11.3",
   "language": "julia",
   "name": "julia-1.11"
  },
  "language_info": {
   "file_extension": ".jl",
   "mimetype": "application/julia",
   "name": "julia",
   "version": "1.11.3"
  }
 },
 "nbformat": 4,
 "nbformat_minor": 5
}
