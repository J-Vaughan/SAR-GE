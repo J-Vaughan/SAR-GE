{
 "cells": [
  {
   "cell_type": "markdown",
   "id": "8c1f94e2-96cc-4ac3-aeb0-10a60d4f9778",
   "metadata": {},
   "source": [
    "# SAR-GE\n",
    "\n",
    "SAR-GE is a Synthetic Aperture Radar payload carrying satellite that aims to detect Greenhouse Emissions from pipelines across Canada.\n",
    "This is a Nadir pointer, no question.\n",
    "\n",
    "Ch. 14 SME-SMAD recommends block redundancy for 5yr lifetime. What does this actually mean? Nothing at this stage.\n",
    "\n",
    "TDRS may be reference (sme pg404)"
   ]
  },
  {
   "cell_type": "code",
   "execution_count": 1,
   "id": "6ca0ade5-5bc9-4132-ba1b-2ad660e04d7c",
   "metadata": {},
   "outputs": [
    {
     "data": {
      "text/plain": [
       "5 yr"
      ]
     },
     "execution_count": 1,
     "metadata": {},
     "output_type": "execute_result"
    }
   ],
   "source": [
    "using Unitful\n",
    "using Dates\n",
    "using UnitfulData\n",
    "\n",
    "𝑐 = 299_792_458u\"m/s\"\n",
    "k = 1.380_649e-23u\"J/K\"\n",
    "Design_Lifetime = 5u\"yr\""
   ]
  },
  {
   "cell_type": "markdown",
   "id": "7d21fa93-619f-4680-8d1e-1fffe33a80f7",
   "metadata": {},
   "source": [
    "## Orbit\n",
    "The orbit was designed using STK's orbit wizard - very convenient."
   ]
  },
  {
   "cell_type": "code",
   "execution_count": 2,
   "id": "59cd432d-9355-4865-8070-75ecf7e200fd",
   "metadata": {},
   "outputs": [
    {
     "data": {
      "text/plain": [
       "0.0010826359"
      ]
     },
     "execution_count": 2,
     "metadata": {},
     "output_type": "execute_result"
    }
   ],
   "source": [
    "# Orbital Parameters\n",
    "P = 86_170.5u\"s\";\n",
    "e = 0;\n",
    "i = 121u\"°\"; # Retrograde (i > 90°)\n",
    "ω = 0;\n",
    "Ω = 50u\"°\";\n",
    "ν = 30u\"°\";\n",
    "\n",
    "# Earth Parameters\n",
    "μ = 3.986_004_418e14u\"m^3*s^-2\";\n",
    "R_terra = 6_378.136_6u\"km\"; # SME-SMAD equatorial\n",
    "J₂ = 0.001_082_635_9; # SME-SMAD"
   ]
  },
  {
   "cell_type": "markdown",
   "id": "aa5d427c-efab-4ebf-b298-993a5386367b",
   "metadata": {},
   "source": [
    "SSE pg. 81 states that at high altitudes (such as in GEO), the gravitational pull of Luna and Sol become significant, as well as radiation pressure from Sol.\n",
    "\n",
    "For circuluar orbits ($e=0$) $a=r$ and $P=2\\pi\\sqrt{a^3/\\mu}$"
   ]
  },
  {
   "cell_type": "code",
   "execution_count": 39,
   "id": "526fe1dd-0c88-4f6b-9740-09b8b8164a0a",
   "metadata": {},
   "outputs": [
    {
     "data": {
      "text/plain": [
       "35788.12397940338 km"
      ]
     },
     "execution_count": 39,
     "metadata": {},
     "output_type": "execute_result"
    }
   ],
   "source": [
    "# Orbit Radius and altitude\n",
    "r = u\"km\"(∛((P/(2π))^2*μ));\n",
    "h = r - R_terra # matches STK\n",
    "n = u\"d^-1\"(1/P) # revolutions per day\n",
    "h"
   ]
  },
  {
   "cell_type": "code",
   "execution_count": 4,
   "id": "4e30acb8-02f1-4768-900f-2d7ef44b4fa5",
   "metadata": {},
   "outputs": [
    {
     "data": {
      "text/plain": [
       "3074.583864909837 m s^-1"
      ]
     },
     "execution_count": 4,
     "metadata": {},
     "output_type": "execute_result"
    }
   ],
   "source": [
    "# Vis viva to find total energy per unit mass and velocity\n",
    "ε = u\"J/kg\"(-μ/(2*r))\n",
    "V_c = u\"m/s\"(√(μ/r))"
   ]
  },
  {
   "cell_type": "code",
   "execution_count": 5,
   "id": "e7bbb689-5a38-4c25-bf52-d64dbce19376",
   "metadata": {},
   "outputs": [],
   "source": [
    "# Average values of Third Body Interaction (SME-SMAD)\n",
    "DΩ_luna = -0.003_38u\"°/d^2\" * (cos(i)/n) # to make the units work, per SME-SMAD)\n",
    "DΩ_sol = -0.001_54u\"°/d^2\" * (cos(i)/n) # \"\n",
    "Dω_luna = 0.001_69u\"°/d^2\" * (4u\"d\" - 5 * sin(i)^2/n); # \"\n",
    "Dω_sol = 0.000_77u\"°/d^2\" * (4u\"d\" - 5 * sin(i)^2/n); # \""
   ]
  },
  {
   "cell_type": "code",
   "execution_count": 6,
   "id": "934acb60-c245-4902-83b2-e97ebbe8825f",
   "metadata": {},
   "outputs": [],
   "source": [
    "# Solar radiation pressure (SME-SMAD)\n",
    "#aᵣ = -4.5e-6 A/m [m/s^2] where A is projected cross-sectional area of sat. wrt. sol in m^2, m is mass of sat. in kg.\n",
    "# per SME-SMAD pg. 214, above 800km altitude the acceleration from sol becomes an important perturbing force, frequently dominant wrt. other perturbations.'\n",
    "# SSE too\n",
    "# SSE Table 4.2 pg94 gives mags of acceleration\n",
    "# Sun (mean) 3.5e-6\n",
    "# Moon (mean) 7.3e-6\n",
    "# Jupiter (max) 5.2e-11 all m/s^2"
   ]
  },
  {
   "cell_type": "code",
   "execution_count": 7,
   "id": "9366e7b4-a242-4b0c-8dd1-16ed9b3c0471",
   "metadata": {},
   "outputs": [],
   "source": [
    "# Let's neglect atmospheric drag, as we are in GEO"
   ]
  },
  {
   "cell_type": "markdown",
   "id": "bc4ddbfa-7da6-4502-8ac4-3a6b0ff83308",
   "metadata": {},
   "source": [
    "## Communications\n",
    "We'll first calculate the bulk data rate using the area of Canada proper and the orbital period. The data groups are given in the project specifications."
   ]
  },
  {
   "cell_type": "code",
   "execution_count": 8,
   "id": "f9a552d6-71ad-47b9-9f7c-d0bac2c59beb",
   "metadata": {},
   "outputs": [
    {
     "data": {
      "text/plain": [
       "8.341919e6 km^2"
      ]
     },
     "execution_count": 8,
     "metadata": {},
     "output_type": "execute_result"
    }
   ],
   "source": [
    "# Physical Parameters\n",
    "A_Canada = 8.138_81e6u\"km^2\" + 203_109u\"km^2\" # Contiguous Canada + Maritimes"
   ]
  },
  {
   "cell_type": "markdown",
   "id": "5d9f5da2-e5fc-440b-9499-a2cf60640ee6",
   "metadata": {},
   "source": [
    "### Payload Data"
   ]
  },
  {
   "cell_type": "code",
   "execution_count": 9,
   "id": "00e3f826-9cba-4c95-960e-060ecfce9781",
   "metadata": {},
   "outputs": [
    {
     "data": {
      "text/plain": [
       "16 bits"
      ]
     },
     "execution_count": 9,
     "metadata": {},
     "output_type": "execute_result"
    }
   ],
   "source": [
    "# Prescribed Data\n",
    "Payload_Resolution = 5u\"m\"\n",
    "Image_Area = (100u\"km\")^2\n",
    "Swath_Width = 100u\"km\"\n",
    "Max_TTI = 14u\"d\" # TTI - Time to Image\n",
    "Pixel_Size = 16u\"bit\" # Could be 32 per project document, but let's be conservative"
   ]
  },
  {
   "cell_type": "code",
   "execution_count": 50,
   "id": "b269fece-9d5f-4a4c-b346-b492368aff42",
   "metadata": {},
   "outputs": [
    {
     "data": {
      "text/plain": [
       "573.7827883597884 kBps"
      ]
     },
     "execution_count": 50,
     "metadata": {},
     "output_type": "execute_result"
    }
   ],
   "source": [
    "# Image Size\n",
    "Image_Pixels = u\"m/m\"(Image_Area / Payload_Resolution^2)\n",
    "Image_Size = u\"MByte\"(Pixel_Size * Image_Pixels)\n",
    "\n",
    "# Imaging Canada\n",
    "Images_per_Canada = A_Canada / Image_Area\n",
    "Images_per_Canada *= 1.04 # Suggested to account for 4% swath overlap\n",
    "# technically since the swaths only overlap in one dimension, i think this should be 1.02.\n",
    "Canada_Size = u\"GByte\"(Images_per_Canada * Image_Size)\n",
    "\n",
    "# Bulk payload data rate\n",
    "Avg_Payload_Data_Rate = u\"kBps\"(Canada_Size / Max_TTI)"
   ]
  },
  {
   "cell_type": "markdown",
   "id": "3bf33c77-ce7c-45f6-add9-c54684d78021",
   "metadata": {},
   "source": [
    "### Housekeeping Data"
   ]
  },
  {
   "cell_type": "code",
   "execution_count": 11,
   "id": "9613953a-126d-4350-8885-1b880a576802",
   "metadata": {},
   "outputs": [
    {
     "data": {
      "text/plain": [
       "80//3 bps"
      ]
     },
     "execution_count": 11,
     "metadata": {},
     "output_type": "execute_result"
    }
   ],
   "source": [
    "# Prescribed Data\n",
    "Error_Detection_Rate = 3u\"bit/Byte\"\n",
    "Latitude = 32u\"bit\" # per image\n",
    "Longitude = 32u\"bit\" # per image\n",
    "Altitude = 32u\"bit\" # per image\n",
    "Time = 64u\"bit\" # per image\n",
    "Synchronization = 24u\"bit\" # per image\n",
    "Health_Data_Rate = u\"bps\"(100u\"minute^-1\" * 16u\"bit\")"
   ]
  },
  {
   "cell_type": "code",
   "execution_count": 53,
   "id": "8d0fb330-69b4-494e-8a82-3a9ed26a4916",
   "metadata": {},
   "outputs": [
    {
     "data": {
      "text/plain": [
       "215.17189546450913 kBps"
      ]
     },
     "execution_count": 53,
     "metadata": {},
     "output_type": "execute_result"
    }
   ],
   "source": [
    "# Housekeeping Data per image\n",
    "Housekeeping_per_Image = u\"MByte\"(Image_Size * Error_Detection_Rate + \n",
    "    (Latitude + Longitude + Altitude + Time + Synchronization))\n",
    "Housekeeping_Size = u\"GByte\"(Housekeeping_per_Image * Images_per_Canada) # per Canada imaged\n",
    "\n",
    "Avg_Housekeeping_Data_Rate = u\"kBps\"(Housekeeping_Size / Max_TTI + Health_Data_Rate)"
   ]
  },
  {
   "cell_type": "code",
   "execution_count": 13,
   "id": "22d481de-2e4e-42a1-a2dd-94ff9a7217bc",
   "metadata": {},
   "outputs": [
    {
     "data": {
      "text/plain": [
       "788.9546838242975 kBps"
      ]
     },
     "execution_count": 13,
     "metadata": {},
     "output_type": "execute_result"
    }
   ],
   "source": [
    "# Total Average Data Rate\n",
    "Avg_Data_Rate = Avg_Payload_Data_Rate + Avg_Housekeeping_Data_Rate\n",
    "# this will be weighted by the ground-station access time ratio to find the real transmit rate needed"
   ]
  },
  {
   "cell_type": "markdown",
   "id": "ba6e953f-b1ac-4cf0-b965-ee43104a844d",
   "metadata": {},
   "source": [
    "## Access Time\n",
    "Fun annulus math!"
   ]
  },
  {
   "cell_type": "code",
   "execution_count": 55,
   "id": "44ac594e-bb62-461d-92a8-cf35b081d377",
   "metadata": {},
   "outputs": [
    {
     "data": {
      "text/plain": [
       "9.499117967294225 hr"
      ]
     },
     "execution_count": 55,
     "metadata": {},
     "output_type": "execute_result"
    }
   ],
   "source": [
    "# Approximation of arc angle subtended by a 10° elevation requirement\n",
    "# The oblateness of Earth makes this a bit more complicated, but oh well. Margins.\n",
    "δ = 10u\"°\"\n",
    "d = R_terra * (√((r/R_terra)^2 - cos(δ)^2) - sin(δ))\n",
    "γ = asin(d * sin(90u\"°\" + δ) / r) # Half-angle, matches geogebra\n",
    "Access_Arc = r * 2γ\n",
    "Total_Arc = r * 2π\n",
    "Access_Ratio = Access_Arc / Total_Arc\n",
    "\n",
    "Access_Time = P * Access_Ratio\n",
    "u\"hr\"(Access_Time)"
   ]
  },
  {
   "cell_type": "code",
   "execution_count": 45,
   "id": "fb55e009-98e1-4e6c-bd89-a7ad4e140351",
   "metadata": {},
   "outputs": [
    {
     "name": "stdout",
     "output_type": "stream",
     "text": [
      "Peak Downlink Data Rate: 2.485 MBps for 7.6 hr every 23.94 hr"
     ]
    },
    {
     "data": {
      "text/plain": [
       "1.9880389543228846e7 bit s^-1"
      ]
     },
     "execution_count": 45,
     "metadata": {},
     "output_type": "execute_result"
    }
   ],
   "source": [
    "# Slides say to allocate 20% of time for uplink\n",
    "Uplink_Time = Access_Time * 0.20\n",
    "Downlink_Time = Access_Time - Uplink_Time\n",
    "\n",
    "# Real Downlink Data Rate\n",
    "Downlink_Data_Rate = u\"MBps\"(Avg_Data_Rate / (Downlink_Time / P))\n",
    "print(\"Peak Downlink Data Rate: $(round(u\"MBps\",Downlink_Data_Rate,sigdigits=4)) for $(round(u\"hr\",Downlink_Time,sigdigits=3)) every $(round(u\"hr\",P,sigdigits=4))\")\n",
    "u\"bit/s\"(Downlink_Data_Rate)\n",
    "# Uplink\n",
    "# Rounding error, essentially."
   ]
  },
  {
   "cell_type": "markdown",
   "id": "b850078d-4295-4caf-9b56-fa40d222b413",
   "metadata": {},
   "source": [
    "Using the built-in default access parameters for the Gatineau ground station in STK, we get less access time and thus more peak data rate requirements. For preliminary design, let's just go with the less stringent requirement. Maybe in the future I can just shove the shorter access time in and get better."
   ]
  },
  {
   "cell_type": "markdown",
   "id": "3bb18b9d-562a-4c40-bd22-3bf731d27870",
   "metadata": {},
   "source": [
    "## Subsystem and Link Budget\n",
    "~~e are all minimum bit error rate on this blessed day.~~\n",
    "Refer to the spreadsheet :/"
   ]
  },
  {
   "cell_type": "code",
   "execution_count": 16,
   "id": "f9bc69eb-25fe-4156-a26b-fa3df7b27972",
   "metadata": {},
   "outputs": [
    {
     "data": {
      "text/plain": [
       "58.285665087364876 dB"
      ]
     },
     "execution_count": 16,
     "metadata": {},
     "output_type": "execute_result"
    }
   ],
   "source": [
    "# Prescribed Data\n",
    "Maximum_Telemetry_BER = 10e-5; # 6TT&C, s.26\n",
    "Maximum_Telecommand_BER = 10e-7; # ^\n",
    "Gatineau_Dish_Diameter = 13u\"m\"; # https://natural-resources.canada.ca/science-data/science-research/research-centres/gatineau-satellite-station\n",
    "Pointing_Error = 1u\"°\"\n",
    "Downlink_Center_Frequency = 8.2u\"GHz\"; # X-band Earth sciences, SMESMADpg631\n",
    "Max_Bandwidth = 400u\"MHz\"; # ^\n",
    "λ = 𝑐 / Downlink_Center_Frequency\n",
    "#G_r = uconvertrp(u\"dB\",20*log10(ustrip(u\"MHz\"(Downlink_Center_Frequency))) + 20*log10(ustrip(u\"ft\"(Gatineau_Dish_Diameter))) - 52.6) # Antenna gain, parabolic, 54% efficiency, ELEC4509 Course Pack II.37 -- Nah, this seems off\n",
    "# !!Q is this rp or p? 35.3 or 17.6\n",
    "G_r = (10log10(0.54) + 20log10(π) + 20log10(ustrip(Gatineau_Dish_Diameter)) - 20log10(ustrip(u\"m\"(𝑐 / Downlink_Center_Frequency))))u\"dB\" # congruent with firesatII example in SMESMAD pg635\n",
    "# Error correction for payload data is prescribed and thus out of our hands."
   ]
  },
  {
   "cell_type": "markdown",
   "id": "1852590a-43bd-4893-a294-d4f8f11cf7fb",
   "metadata": {},
   "source": [
    "~~To make things easier (more complicated), we're going to go with a QPSK Viterbi scheme with R=1/2 and K=8. From graph 6TT&Cs.32, at BER=1e-5, $E_b/N_0=3.7dB$. And from slide 40, $\\left(\\frac CN\\right)_\\text{required}=R\\frac{E_b}{N_0}$, right?~~ uhhhh.\n",
    "\n",
    "We're going to keep things simple for now.\n",
    "\n",
    "$(\\frac{C}{N})_\\text{required}=\\frac RB\\ln{\\frac{1}{2\\,\\text{BER}}}$\n",
    "\n",
    "$B=0.6R$ for QPSK (6TT&S.s23)\n",
    "\n",
    "$(\\frac CN)_\\text{req'd}=\\frac{1}{0.6}\\ln{\\frac{1}{2\\,\\text{BER}}}$"
   ]
  },
  {
   "cell_type": "code",
   "execution_count": 44,
   "id": "e161bf8b-76c5-40e1-b0fa-e7c2f7c5ebd2",
   "metadata": {},
   "outputs": [
    {
     "name": "stdout",
     "output_type": "stream",
     "text": [
      "C/N Required: 12.176369096785427 dB\n",
      "Bandwidth: 11.928 MHz, within X-band? true, FBW = 3.0%\n",
      "G_r < Min G_r: false so we'll use 63.235077221115084 dB. G/T = 46.93507722111509 dB\n",
      "G_t: 29.6553771777549 dB\n",
      "EIRP: 78.41628976831171 dBm\n",
      "Path loss: 201.8110557113407 dB\n",
      "Noise Power: -124.12758685979549 dB\n",
      "θ_3dB = 5.118407819512196° = Beamwidth and L_point = -3.390885263972731 dB \n",
      "C: -65.76880345794117 dBm\n",
      "R_b = 21.1277080587492 dBm\n",
      "C/N_0 = 146.5311965420588 dBm\n"
     ]
    },
    {
     "data": {
      "text/plain": [
       "40588.24626112903 km"
      ]
     },
     "execution_count": 44,
     "metadata": {},
     "output_type": "execute_result"
    }
   ],
   "source": [
    "#C_N_required = Downlink_Data_Rate * 3.7u\"J/bit\" NOPE FUCK IT\n",
    "C_N_required = uconvertp(u\"dB\",0.6^-1 * log(2Maximum_Telemetry_BER^-1))\n",
    "println(\"C/N Required: $(C_N_required)\")\n",
    "\n",
    "Bandwidth = 0.6u\"1/bit\" * Downlink_Data_Rate\n",
    "println(\"Bandwidth: $(round(u\"MHz\",Bandwidth,sigdigits=5)), within X-band? $(Bandwidth < Max_Bandwidth), FBW = $(round((Bandwidth / Max_Bandwidth |> upreferred) * 100))%\")\n",
    "\n",
    "# Link Equation/Budget\n",
    "\n",
    "\n",
    "# Lets try a new approach... For Intelsat approval, G/T ≥ 40.7dB + 20log(f/4) and G ≥ 57dB + 20log(f/4) 4509 course pack\n",
    "Min_FOM = 40.7u\"dB\" + 20u\"dB\"*log10(ustrip(u\"GHz\"(Downlink_Center_Frequency))/4)\n",
    "Min_RxG = 57u\"dB\" + 20u\"dB\"*log10(ustrip(u\"GHz\"(Downlink_Center_Frequency))/4)\n",
    "println(\"G_r < Min G_r: $(G_r < Min_RxG) so we'll use $Min_RxG. G/T = $Min_FOM\")\n",
    "G_r = Min_RxG\n",
    "L_rx_line = 2u\"dB\" #assume\n",
    "\n",
    "# Tx Antenna Specs\n",
    "Tx_Diameter = 0.5u\"m\"\n",
    "Tx_η = 0.50\n",
    "G_t = (-159.59 + 20log10(ustrip(u\"m\"(Tx_Diameter))) + 20log10(ustrip(u\"Hz\"(Downlink_Center_Frequency))) + 10log10(Tx_η))u\"dB\"\n",
    "println(\"G_t: $G_t\") # agrees with fig 16-10 sme yay\n",
    "L_tx_line = 3u\"dB\" #assume\n",
    "\n",
    "\n",
    "# Transmitter power det'd by the power budget. say 150W of 170W?\n",
    "P_t = u\"dBm\"(150u\"W\")\n",
    "\n",
    "EIRP = G_t * P_t - L_tx_line # about right comp. to. 16-13 p480 sme\n",
    "println(\"EIRP: $EIRP\")\n",
    "\n",
    "# Path loss\n",
    "#L_path = uconvertp(u\"dB\", ((4π*d)/λ)^2 |> upreferred) # yes\n",
    "L_path = 92.46u\"dB\" + 20u\"dB\"*log10(ustrip(u\"km\"(h))) + 20u\"dB\"*log10(ustrip(u\"GHz\"(Downlink_Center_Frequency))) #sme form eq16-21\n",
    "println(\"Path loss: $L_path\") # agrees with sme\n",
    "L_prec = 7u\"dB\" #ballpark assumed\n",
    "\n",
    "# Since P_r = C, we'll use the standard 290K for the temperature\n",
    "# kTB\n",
    "#Noise = u\"dBm\"(k * 290u\"K\" * Bandwidth)\n",
    "Rx_Noise_Temp = 70u\"K\" # cryo cooled\n",
    "Noise = (10log10(ustrip(k)) + 10log10(ustrip(Rx_Noise_Temp)) + 10log10(ustrip(u\"Hz\"(Max_Bandwidth))))*1u\"dB\"\n",
    "println(\"Noise Power: $Noise\")\n",
    "\n",
    "# Pointing loss\n",
    "# Good assumption for ADCS pointing is 1° - could use for θ3dB\n",
    "θ_3dB = 70u\"°\"*λ/Tx_Diameter |> u\"°\"\n",
    "L_point = uconvertp(u\"dB\", 12 * (Pointing_Error / θ_3dB)^2)\n",
    "println(\"θ_3dB = $θ_3dB = Beamwidth and L_point = $L_point \")\n",
    "\n",
    "# Atmospheric Attenuation\n",
    "# From Fig16-18sme, the total zenith attenuation at 8GHz is 0.05dB, basically negligible\n",
    "\n",
    "\n",
    "C_N_achieved = P_t + G_t + G_r - L_path - Noise - L_point\n",
    "C = EIRP + G_r - L_path - L_prec - L_rx_line - L_point\n",
    "println(\"C: $C\")\n",
    "P_r = C\n",
    "# Bit rate R_b (dB-Hz) = 10log10(R_b(bps))\n",
    "R_b = (10log10(ustrip(u\"bit/s\"(Downlink_Data_Rate)))+30)*1u\"dBm\"\n",
    "println(\"R_b = $R_b\")\n",
    "C_N0_down = EIRP + Min_FOM - (L_path + L_prec + L_rx_line + L_point) + 228.6u\"dB\"\n",
    "println(\"C/N_0 = $C_N0_down\")\n",
    "Eb_N0_down = 10log10(C_N0_down / R_b)\n",
    "\n",
    "# 80K for satellite noise temp\n",
    "# NO! SC sees mostly deep space at 3K pg 401 sme\n",
    "\n",
    "# 290K for ground station\n",
    "\n",
    "# EO database - find similar missions and compare mass/power breakdowns\n",
    "d\n",
    "# Pointing loss is based on θ_3dB "
   ]
  },
  {
   "cell_type": "code",
   "execution_count": 18,
   "id": "b08653ea-6d43-412b-a9c0-62c2fc965791",
   "metadata": {},
   "outputs": [
    {
     "name": "stdout",
     "output_type": "stream",
     "text": [
      "1.0 mW = 0.0 dBm\n",
      "dBm \n",
      "0.0 dBm\n"
     ]
    }
   ],
   "source": [
    "# Sanity/Unitful Check\n",
    "P_t = 1u\"mW\"\n",
    "G_t = 10\n",
    "L_p = 0.1\n",
    "EIRP = P_t * G_t * L_p\n",
    "println(\"$EIRP = $(u\"dBm\"(EIRP))\")\n",
    "P_tr = 10log10(1)u\"dBm\"\n",
    "G_tr = 10log10(10)u\"dB\"\n",
    "L_pr = 10log10(0.1)u\"dB\"\n",
    "println(P_tr + G_tr + L_pr)\n",
    "println(P_tr * G_tr * L_pr)"
   ]
  },
  {
   "cell_type": "markdown",
   "id": "c64b53d1-3713-478f-bf2b-bc07068fc284",
   "metadata": {},
   "source": [
    "# Stationkeeping and Propulsion\n",
    "Yay!! Orbit math!!"
   ]
  },
  {
   "cell_type": "code",
   "execution_count": 19,
   "id": "9d9bf973-08b4-4e4a-b68f-2b144eb2786d",
   "metadata": {},
   "outputs": [
    {
     "name": "stdout",
     "output_type": "stream",
     "text": [
      "α: 92.42°, γ: 97.56°\n"
     ]
    }
   ],
   "source": [
    "# \"Provided\" data\n",
    "Earth_Obliquity = 23.44u\"°\"\n",
    "Lunar_Inclination = 5.14u\"°\"\n",
    "\n",
    "# Derived\n",
    "γ = i - Earth_Obliquity\n",
    "α = γ - Lunar_Inclination\n",
    "println(\"α: $α, γ: $γ\")"
   ]
  },
  {
   "cell_type": "code",
   "execution_count": 20,
   "id": "c60762b8-2bec-4fd2-b36c-d9c601fc97fa",
   "metadata": {},
   "outputs": [
    {
     "data": {
      "text/plain": [
       "47.85157795730932 m s^-1"
      ]
     },
     "execution_count": 20,
     "metadata": {},
     "output_type": "execute_result"
    }
   ],
   "source": [
    "# Stationkeeping ΔV estimations\n",
    "ΔV_Moon = abs(102.67u\"m/s/yr\" * cos(α) * sin(α))\n",
    "ΔV_Sun = abs(40.17u\"m/s/yr\" * cos(γ) * sin(γ))\n",
    "NS_StnKeep = (ΔV_Moon + ΔV_Sun) * Design_Lifetime\n",
    "\n",
    "# SME-SMAD says that GEO represents an \"excellent application for electric propulsion for orbit maintenance\" pg. 260."
   ]
  },
  {
   "cell_type": "code",
   "execution_count": 21,
   "id": "a38d8e1d-990f-4d4f-bc61-c15b092bdb76",
   "metadata": {},
   "outputs": [
    {
     "data": {
      "text/plain": [
       "18 m s^-1"
      ]
     },
     "execution_count": 21,
     "metadata": {},
     "output_type": "execute_result"
    }
   ],
   "source": [
    "# Propulsion\n",
    "# I will cover GTO->GEO transfer later\n",
    "# Prelim now I guess. \n",
    "# sme says pg253fig10-16 hohmann from 185km alt. of about 4km/s\n",
    "ΔV_transfer = 4u\"km/s\"\n",
    "# M_p = M_f * (exp(ΔV/(I_sp * 𝑔))-1) # Total delta V pg 400 sec14 <- good resource?\n",
    "\n",
    "# Decomissioning\n",
    "ΔV_disposal = 18u\"m/s\""
   ]
  },
  {
   "cell_type": "markdown",
   "id": "2a3bffb3-f096-4028-81db-1c2ae4017a22",
   "metadata": {},
   "source": [
    "# Power Budget\n",
    "Preliminary, table14-20 and appA SME"
   ]
  },
  {
   "cell_type": "code",
   "execution_count": 22,
   "id": "93c03b6e-7910-458c-b0d3-ccd251b6d6f6",
   "metadata": {},
   "outputs": [
    {
     "name": "stdout",
     "output_type": "stream",
     "text": [
      "Payload: 350 W\n",
      "Structure: 21.21212121212121 W\n",
      "Thermal: 148.4848484848485 W\n",
      "Power: 74.24242424242425 W\n",
      "TT&C: 169.6969696969697 W\n",
      "Data: 106.06060606060606 W\n",
      "ADCS: 169.6969696969697 W\n",
      "Propulsion: 21.21212121212121 W\n",
      "------------------\n",
      "Total: 1060.6060606060605 W\n",
      "PD_out: 248.8707672637151 W m^-2\n"
     ]
    },
    {
     "data": {
      "text/plain": [
       "4.261673929273472 m^2"
      ]
     },
     "execution_count": 22,
     "metadata": {},
     "output_type": "execute_result"
    }
   ],
   "source": [
    "# Prescribed Data\n",
    "P_Payload = 350u\"W\"\n",
    "\n",
    "# Table 14-20 High Earth\n",
    "PPPayload = 0.33 # changed from 35-33% for structure ↓\n",
    "PPStructure = 0.02 # we have some tho (so changed from 0 -2%)\n",
    "PPThermal = 0.14\n",
    "PPPower = 0.07\n",
    "PPTTC = 0.16\n",
    "PPData = 0.10\n",
    "PPADCS = 0.16\n",
    "PPPropulsion = 0.02\n",
    "# avg power 691 W they say\n",
    "\n",
    "P_Total = P_Payload / PPPayload\n",
    "println(\"Payload: $P_Payload\")\n",
    "P_Structure = P_Total * PPStructure\n",
    "println(\"Structure: $P_Structure\")\n",
    "P_Thermal = P_Total * PPThermal\n",
    "println(\"Thermal: $P_Thermal\")\n",
    "P_Power = P_Total * PPPower\n",
    "println(\"Power: $P_Power\")\n",
    "P_TTC = P_Total * PPTTC\n",
    "println(\"TT&C: $P_TTC\")\n",
    "P_Data = P_Total * PPData\n",
    "println(\"Data: $P_Data\")\n",
    "P_ADCS = P_Total * PPADCS\n",
    "println(\"ADCS: $P_ADCS\")\n",
    "P_Propulsion = P_Total * PPPropulsion\n",
    "println(\"Propulsion: $P_Propulsion\")\n",
    "println(\"------------------\")\n",
    "println(\"Total: $P_Total\")\n",
    "\n",
    "# Bro...\n",
    "# Since γ = 97.56° we hardly need any mechanism for pointing the solar panels at all\n",
    "# Just 1DoF for kicks\n",
    "# Also eclipse time is 0 lmao\n",
    "# Always sunlight\n",
    "# Add a battery just as a buffer, maybe the subsystem needs to restart or something, severing the power link between solar array and control\n",
    "\n",
    "\n",
    "# Required power yada yada\n",
    "PD_in = 1366u\"W/m^2\"\n",
    "η = 18.5e-2 # GaAs achieved ish\n",
    "#T_cell = 0#°C slide 7.23 says 160C to 90C for GEO\n",
    "#η = 30 * cos((T_cell + 50)/250)^1.2\n",
    "θ = 10u\"°\" # \"Worst case\"\n",
    "PD_out = PD_in * η * cos(θ)\n",
    "println(\"PD_out: $PD_out\")\n",
    "A_Solar_Reqd = P_Total / PD_out\n"
   ]
  },
  {
   "cell_type": "markdown",
   "id": "99e55a0d-1f50-4033-bf08-184cf07bf707",
   "metadata": {},
   "source": [
    "# Mass Budget\n",
    "Preliminary, table14-18 and app A SME"
   ]
  },
  {
   "cell_type": "code",
   "execution_count": 23,
   "id": "5f404a75-9afc-42c6-84e3-47405ea19b0d",
   "metadata": {},
   "outputs": [
    {
     "name": "stdout",
     "output_type": "stream",
     "text": [
      "Payload Mass: 200 kg\n",
      "Structure Mass: 150.0 kg\n",
      "Thermal: 25.0 kg\n",
      "Power: 106.25000000000001 kg\n",
      "TT&C: 25.0 kg\n",
      "Data: 18.75 kg\n",
      "ADCS: 37.5 kg\n",
      "Propulsion: 43.75000000000001 kg\n",
      "Other: 18.75 kg\n",
      "-----------------------\n",
      "Dry Mass: 625.0 kg\n",
      "Propellant: 450.0 kg\n",
      "-----------------------\n",
      "Wet Mass: 1075.0 kg\n"
     ]
    }
   ],
   "source": [
    "# Table 14-18 High Earth\n",
    "PMPayload = 0.32\n",
    "PMStructure = 0.24\n",
    "PMThermal = 0.04\n",
    "PMPower = 0.17\n",
    "PMTTC = 0.04\n",
    "PMData = 0.03\n",
    "PMADCS = 0.06\n",
    "PMPropulsion = 0.07\n",
    "PMOther = 0.03\n",
    "PMPropellant = 0.72\n",
    "\n",
    "# Okay\n",
    "# If payload then\n",
    "Dry_Mass = 200u\"kg\" / PMPayload\n",
    "println(\"Payload Mass: $(200u\"kg\")\")\n",
    "# and then\n",
    "M_Structure = Dry_Mass * PMStructure\n",
    "println(\"Structure Mass: $M_Structure\")\n",
    "# etc..\n",
    "M_Thermal = Dry_Mass * PMThermal\n",
    "println(\"Thermal: $M_Thermal\")\n",
    "M_Power = Dry_Mass * PMPower\n",
    "println(\"Power: $M_Power\")\n",
    "M_TTC = Dry_Mass * PMTTC\n",
    "println(\"TT&C: $M_TTC\")\n",
    "M_Data = Dry_Mass * PMData\n",
    "println(\"Data: $M_Data\")\n",
    "M_ADCS = Dry_Mass * PMADCS\n",
    "println(\"ADCS: $M_ADCS\")\n",
    "M_Propulsion = Dry_Mass * PMPropulsion\n",
    "println(\"Propulsion: $M_Propulsion\")\n",
    "M_Other = Dry_Mass * PMOther\n",
    "println(\"Other: $M_Other\")\n",
    "println(\"-----------------------\")\n",
    "println(\"Dry Mass: $Dry_Mass\")\n",
    "M_Propellant = Dry_Mass * PMPropellant\n",
    "println(\"Propellant: $M_Propellant\")\n",
    "Wet_Mass = Dry_Mass + M_Propellant\n",
    "println(\"-----------------------\")\n",
    "println(\"Wet Mass: $Wet_Mass\")\n"
   ]
  }
 ],
 "metadata": {
  "kernelspec": {
   "display_name": "Julia 1.11.3",
   "language": "julia",
   "name": "julia-1.11"
  },
  "language_info": {
   "file_extension": ".jl",
   "mimetype": "application/julia",
   "name": "julia",
   "version": "1.11.3"
  }
 },
 "nbformat": 4,
 "nbformat_minor": 5
}
