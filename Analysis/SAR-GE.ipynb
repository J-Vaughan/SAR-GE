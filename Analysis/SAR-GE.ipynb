{
 "cells": [
  {
   "cell_type": "markdown",
   "id": "8c1f94e2-96cc-4ac3-aeb0-10a60d4f9778",
   "metadata": {},
   "source": [
    "# SAR-GE\n",
    "\n",
    "SAR-GE is a Synthetic Aperture Radar payload carrying satellite that aims to detect Greenhouse Emissions from pipelines across Canada."
   ]
  },
  {
   "cell_type": "code",
   "execution_count": 30,
   "id": "6ca0ade5-5bc9-4132-ba1b-2ad660e04d7c",
   "metadata": {},
   "outputs": [
    {
     "name": "stderr",
     "output_type": "stream",
     "text": [
      "WARNING: replacing module usedUnits.\n"
     ]
    }
   ],
   "source": [
    "using Unitful\n",
    "using Dates\n",
    "module usedUnits\n",
    "    using Unitful\n",
    "    @unit day \"day\" Day 24u\"hr\" false\n",
    "    @unit b \"b\" Bit 1 true\n",
    "end\n",
    "Unitful.register(usedUnits);"
   ]
  },
  {
   "cell_type": "markdown",
   "id": "7d21fa93-619f-4680-8d1e-1fffe33a80f7",
   "metadata": {},
   "source": [
    "## Orbit\n",
    "The orbit was designed using STK's orbit wizard - very convenient."
   ]
  },
  {
   "cell_type": "code",
   "execution_count": 40,
   "id": "59cd432d-9355-4865-8070-75ecf7e200fd",
   "metadata": {},
   "outputs": [
    {
     "data": {
      "text/plain": [
       "1436.175 minute"
      ]
     },
     "execution_count": 40,
     "metadata": {},
     "output_type": "execute_result"
    }
   ],
   "source": [
    "# Orbital Parameters\n",
    "P = 86_170.5u\"s\";\n",
    "e = 0;\n",
    "i = 121u\"°\"; # Retrograde (i > 90°)\n",
    "ω = 0;\n",
    "Ω = 50u\"°\";\n",
    "ν = 30u\"°\";\n",
    "\n",
    "# Earth Parameters\n",
    "μ = 3.986_004_418e14u\"m^3*s^-2\";\n",
    "R_terra = 6_378.136_6u\"km\"; # SME-SMAD equatorial\n",
    "J₂ = 0.001_082_635_9; # SME-SMAD\n",
    "(u\"minute\"(P) - u\"minute\"(Dates.Day(1)))/1u\"a\" # we'll call this a rounding error? sidereal error? uhhh hhhhhhh\n",
    "u\"minute\"(P)"
   ]
  },
  {
   "cell_type": "markdown",
   "id": "aa5d427c-efab-4ebf-b298-993a5386367b",
   "metadata": {},
   "source": [
    "SSE pg. 81 states that at high altitudes (such as in GEO), the gravitational pull of Luna and Sol become significant, as well as radiation pressure from Sol.\n",
    "\n",
    "For circuluar orbits ($e=0$) $a=r$ and $P=2\\pi\\sqrt{a^3/\\mu}$"
   ]
  },
  {
   "cell_type": "code",
   "execution_count": 42,
   "id": "526fe1dd-0c88-4f6b-9740-09b8b8164a0a",
   "metadata": {},
   "outputs": [
    {
     "data": {
      "text/plain": [
       "35788.12397940338 km"
      ]
     },
     "execution_count": 42,
     "metadata": {},
     "output_type": "execute_result"
    }
   ],
   "source": [
    "# Orbit Radius and altitude\n",
    "r = u\"km\"(∛((P/(2π))^2*μ));\n",
    "h = r - R_terra # matches STK\n",
    "n = u\"day^-1\"((√(μ/r^3))) # revolutions per day\n",
    "h"
   ]
  },
  {
   "cell_type": "code",
   "execution_count": 4,
   "id": "4e30acb8-02f1-4768-900f-2d7ef44b4fa5",
   "metadata": {},
   "outputs": [
    {
     "data": {
      "text/plain": [
       "3074.583864909837 m s^-1"
      ]
     },
     "execution_count": 4,
     "metadata": {},
     "output_type": "execute_result"
    }
   ],
   "source": [
    "# Vis viva to find total energy per unit mass and velocity\n",
    "ε = u\"J/kg\"(-μ/(2*r))\n",
    "V_c = u\"m/s\"(√(μ/r))"
   ]
  },
  {
   "cell_type": "code",
   "execution_count": 17,
   "id": "e7bbb689-5a38-4c25-bf52-d64dbce19376",
   "metadata": {},
   "outputs": [],
   "source": [
    "# Average values of Third Body Interaction (SME-SMAD)\n",
    "DΩ_luna = -0.003_38u\"°/day^2\" * (cos(i)/n) # to make the units work, per SME-SMAD)\n",
    "DΩ_sol = -0.001_54u\"°/day^2\" * (cos(i)/n) # \"\n",
    "Dω_luna = 0.001_69u\"°/day^2\" * (4u\"day\" - 5 * sin(i)^2/n); # \"\n",
    "Dω_sol = 0.000_77u\"°/day^2\" * (4u\"day\" - 5 * sin(i)^2/n); # \""
   ]
  },
  {
   "cell_type": "code",
   "execution_count": 18,
   "id": "934acb60-c245-4902-83b2-e97ebbe8825f",
   "metadata": {},
   "outputs": [],
   "source": [
    "# Solar radiation pressure (SME-SMAD)\n",
    "#aᵣ = -4.5e-6 A/m [m/s^2] where A is cross-sectional area of sat. wrt. sol in m^2, m is mass of sat. in kg.\n",
    "# per SME-SMAD pg. 214, above 800km altitude the acceleration from sol becomes an important perturbing force, frequently dominant wrt. other perturbations."
   ]
  },
  {
   "cell_type": "code",
   "execution_count": 22,
   "id": "9366e7b4-a242-4b0c-8dd1-16ed9b3c0471",
   "metadata": {},
   "outputs": [],
   "source": [
    "# Let's neglect atmospheric drag for now at least, as we are in GEO"
   ]
  }
 ],
 "metadata": {
  "kernelspec": {
   "display_name": "Julia 1.11.3",
   "language": "julia",
   "name": "julia-1.11"
  },
  "language_info": {
   "file_extension": ".jl",
   "mimetype": "application/julia",
   "name": "julia",
   "version": "1.11.3"
  }
 },
 "nbformat": 4,
 "nbformat_minor": 5
}
